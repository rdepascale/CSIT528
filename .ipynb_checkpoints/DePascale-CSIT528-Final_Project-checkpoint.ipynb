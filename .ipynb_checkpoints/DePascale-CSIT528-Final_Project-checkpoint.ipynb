{
 "cells": [
  {
   "cell_type": "markdown",
   "metadata": {},
   "source": [
    "# CSIT 528 Statistics for Data Science\n",
    "# Project Report\n",
    "## Project Title: Analysis of Police Fatal Shootings in the United States since 2015\n",
    "## Team Members: Ryan DePascale"
   ]
  },
  {
   "cell_type": "markdown",
   "metadata": {},
   "source": [
    "***\n",
    "# 1. Description\n",
    "## 1.1 Basic Information\n",
    "Although the Black Lives Matter movement began to gain national attention in 2012 the subject of police brutality has been tied to the very fabric of America from our founding days.  The idea that inequity exists in America flies in the face of the principles the country was founded upon yet we often see countless examples of privilege (i.e. racial, gender, economic, etc.) showing this inequity.  Regardless of how we identify ourselves this subject continues to be interwoven into our lives and analysis of it deserves to be done in the science as well as the liberal arts.\n",
    "\n",
    "## 1.2 Project Objectives\n",
    "There exists a distinct difference in the policing of ethnic groups within the United States of America and within those groups it is also likely that we will find other trends as we drill down into gender and geographic divides.\n",
    "\n",
    "## 1.3 Description of the Data Set\n",
    "The Washington Post created a [database](https://github.com/washingtonpost/data-police-shootings) of “every fatal shooting in the United States by a police officer in the line of duty since Jan. 1, 2015.”  The target population is the 5,764 fatal police shootings (as of Wednesday November 11, 2020) in the dataset.  The population variables are:\n",
    "* id: a unique identifier for each victim\n",
    "* name: the name of the victim\n",
    "* date: the date of the fatal shooting\n",
    "* Manner_of_death:\n",
    "  * Shot\n",
    "  * Shot and tasered\n",
    "* armed: indicates that the victim was armed with some sort of implement that a police officer believed could inflict harm\n",
    "* age: the age of the victim\n",
    "* gender: the gender of the victim. The Post identifies victims by the gender they identify with if reports indicate that it differs from their biological sex.\n",
    "* Race:\n",
    "  * W: White, non-Hispanic\n",
    "  * B: Black, non-Hispanic\n",
    "  * A: Asian\n",
    "  * N: Native American\n",
    "  * H: Hispanic\n",
    "  * O: Other\n",
    "  * None: unknown\n",
    "* city: the municipality where the fatal shooting took place.\n",
    "* state: two-letter postal code abbreviation\n",
    "* signs of mental illness: News reports have indicated the victim had a history of mental health issues, expressed suicidal intentions or was experiencing mental distress at the time of the shooting.\n",
    "* threat_level: incidents where officers or others were shot at, threatened with a gun, attacked with other weapons or physical force, etc.\n",
    "* flee: News reports have indicated the victim was moving away from officers\n",
    "* body_camera: News reports have indicated an officer was wearing a body camera and it may have recorded some portion of the incident.\n",
    "* latitude and longitude: the location of the shooting expressed as WGS84 coordinates, geocoded from addresses.\n",
    "* is_geocoding_exact: reflects the accuracy of the coordinates.\n",
    "***"
   ]
  },
  {
   "cell_type": "code",
   "execution_count": 152,
   "metadata": {},
   "outputs": [],
   "source": [
    "%matplotlib inline\n",
    "\n",
    "import numpy as np\n",
    "import matplotlib.pylab as plt\n",
    "import pandas as pd\n",
    "import math\n",
    "from scipy import stats\n",
    "from pandas import DataFrame"
   ]
  },
  {
   "cell_type": "code",
   "execution_count": 73,
   "metadata": {},
   "outputs": [],
   "source": [
    "# cleaned with weka\n",
    "df = pd.read_csv('fatal-police-shootings-data_CLEANED_no_missing.csv')"
   ]
  },
  {
   "cell_type": "code",
   "execution_count": 74,
   "metadata": {},
   "outputs": [
    {
     "name": "stdout",
     "output_type": "stream",
     "text": [
      "<class 'pandas.core.frame.DataFrame'>\n",
      "RangeIndex: 5652 entries, 0 to 5651\n",
      "Data columns (total 17 columns):\n",
      " #   Column                   Non-Null Count  Dtype  \n",
      "---  ------                   --------------  -----  \n",
      " 0   id                       5652 non-null   int64  \n",
      " 1   name                     5652 non-null   object \n",
      " 2   date                     5652 non-null   object \n",
      " 3   manner_of_death          5652 non-null   object \n",
      " 4   armed                    5652 non-null   object \n",
      " 5   age                      5652 non-null   float64\n",
      " 6   gender                   5652 non-null   object \n",
      " 7   race                     5652 non-null   object \n",
      " 8   city                     5652 non-null   object \n",
      " 9   state                    5652 non-null   object \n",
      " 10  signs_of_mental_illness  5652 non-null   bool   \n",
      " 11  threat_level             5652 non-null   object \n",
      " 12  flee                     5652 non-null   object \n",
      " 13  body_camera              5652 non-null   bool   \n",
      " 14  longitude                5652 non-null   float64\n",
      " 15  latitude                 5652 non-null   float64\n",
      " 16  is_geocoding_exact       5652 non-null   bool   \n",
      "dtypes: bool(3), float64(3), int64(1), object(10)\n",
      "memory usage: 634.9+ KB\n"
     ]
    }
   ],
   "source": [
    "# display summary of columns\n",
    "df.info()"
   ]
  },
  {
   "cell_type": "markdown",
   "metadata": {},
   "source": [
    "***\n",
    "# 2. Exploratory Data Analysis\n",
    "## a. Calculate the measures of descriptive statistics\n",
    "***"
   ]
  },
  {
   "cell_type": "code",
   "execution_count": 81,
   "metadata": {},
   "outputs": [
    {
     "data": {
      "text/plain": [
       "count    5652.000000\n",
       "mean       37.148121\n",
       "std        12.794826\n",
       "min         6.000000\n",
       "25%        27.000000\n",
       "50%        36.000000\n",
       "75%        45.000000\n",
       "max        91.000000\n",
       "Name: age, dtype: float64"
      ]
     },
     "execution_count": 81,
     "metadata": {},
     "output_type": "execute_result"
    }
   ],
   "source": [
    "# Description of entire sample.\n",
    "df.age.describe()"
   ]
  },
  {
   "cell_type": "code",
   "execution_count": 22,
   "metadata": {},
   "outputs": [
    {
     "data": {
      "text/plain": [
       "count    3159.000000\n",
       "mean       40.297350\n",
       "std        13.180809\n",
       "min         6.000000\n",
       "25%        31.000000\n",
       "50%        37.148121\n",
       "75%        49.000000\n",
       "max        91.000000\n",
       "Name: age, dtype: float64"
      ]
     },
     "execution_count": 22,
     "metadata": {},
     "output_type": "execute_result"
    }
   ],
   "source": [
    "# Description of sample where race is 'W'\n",
    "df_w = df[df['race'] == 'W']\n",
    "df_w.age.describe()"
   ]
  },
  {
   "cell_type": "code",
   "execution_count": 23,
   "metadata": {},
   "outputs": [
    {
     "data": {
      "text/plain": [
       "count    2493.000000\n",
       "mean       33.157581\n",
       "std        11.070891\n",
       "min        13.000000\n",
       "25%        25.000000\n",
       "50%        32.000000\n",
       "75%        39.000000\n",
       "max        88.000000\n",
       "Name: age, dtype: float64"
      ]
     },
     "execution_count": 23,
     "metadata": {},
     "output_type": "execute_result"
    }
   ],
   "source": [
    "# Description of sample where race is 'not W'\n",
    "df_not_w = df[df['race'] != 'W']\n",
    "df_not_w.age.describe()"
   ]
  },
  {
   "cell_type": "markdown",
   "metadata": {},
   "source": [
    "# b. Describe and visualize the distribution of variables"
   ]
  },
  {
   "cell_type": "code",
   "execution_count": 77,
   "metadata": {},
   "outputs": [
    {
     "data": {
      "text/plain": [
       "(6.0, 91.0)"
      ]
     },
     "execution_count": 77,
     "metadata": {},
     "output_type": "execute_result"
    },
    {
     "data": {
      "image/png": "[encoded data removed]",
      "text/plain": [
       "<Figure size 1440x360 with 3 Axes>"
      ]
     },
     "metadata": {
      "needs_background": "light"
     },
     "output_type": "display_data"
    }
   ],
   "source": [
    "bin_size = math.ceil(len(df) **.5)\n",
    "plt.subplot(1,3,1)\n",
    "ax = df['age'].plot.hist(figsize=(20, 5), bins = bin_size)\n",
    "ax.set_xlabel('age of shooting victim')\n",
    "#plt.title(\"Distribution of ALL fatal police shootings\")\n",
    "plt.xticks(range(0, int( df['age'].max() ), 5))\n",
    "plt.grid(axis = 'both', which = 'both')\n",
    "ax.set_ylim(top = 450)\n",
    "ax.set_xlim(df.age.min(), df.age.max())\n",
    "\n",
    "#bin_size = math.ceil(len(df_w) **.5)\n",
    "plt.subplot(1,3,2)\n",
    "ax = df_w['age'].plot.hist(bins = bin_size)\n",
    "ax.set_xlabel('age of W shooting victim')\n",
    "plt.xticks(range(0, int( df_w['age'].max() ), 5))\n",
    "plt.grid(axis = 'both', which = 'both')\n",
    "ax.set_ylim(top = 450)\n",
    "ax.set_xlim(df.age.min(), df.age.max())\n",
    "\n",
    "#bin_size = math.ceil(len(df_not_w) **.5)\n",
    "plt.subplot(1,3,3)\n",
    "ax = df_not_w['age'].plot.hist(bins = bin_size)\n",
    "ax.set_xlabel('age of not W shooting victim')\n",
    "plt.xticks(range(0, int( df_not_w['age'].max() ), 5))\n",
    "plt.grid(axis = 'both', which = 'both')\n",
    "ax.set_ylim(top = 450)\n",
    "ax.set_xlim(df.age.min(), df.age.max())"
   ]
  },
  {
   "cell_type": "markdown",
   "metadata": {},
   "source": [
    "The age of shooting victim for all individuals in the dataset is strongly right skewed toward younger ages appearing to peak around age 30.  There are large peaks before age 25, before age 35, and after age 35.  There are smaller peaks before age 45, before age 55, and between ages 60 and 65.\n",
    "\n",
    "The age of a shooting victim with race identified as W is right skewed toward younger ages while appearing to be centered around age 35.  There are more peaks in ages with one after age 35 standing out the most.\n",
    "\n",
    "The age of a shooting victim with race identified as not W is also right skewed toward younger ages with the only peak appearing betwen ages 35 and 40.  Of note is that save the peaks around age 25, between 25 and 30, and between 35 and 40, the values are higher than the graph of the distribution of W shooting victims for similar brackets.  This could be a possible reason for the lack of data on the right of this graph since, this represents human lives and if there is lot of samples in lower age brackets these lives would not be able to progress to the older age brackets."
   ]
  },
  {
   "cell_type": "markdown",
   "metadata": {},
   "source": [
    "***\n",
    "# 3. Data Analysis and Results\n",
    "## a. Hypothesis Test for $\\mu_1 - \\mu_2$\n",
    "The histogram below shows the three frames overlaid showing that the age of a not W shooting victim appears to be of similar form to the age of all shooting victims.  This leads to looking at the hypothesis test\n",
    "* $H_0: \\mu_1 = \\mu_2$\n",
    "* $H_1: \\mu_1 \\neq \\mu_2 $\\\n",
    "where Sample 1 are the fatal shooting victims identified as not W and Sample 2 are the fatal shooting victims identified as W.  The level of significance will be set at the customary $\\alpha = 0.05$.  This is being tested to look for evidence that fatal shooting victims who are identified as not W are shot at a younger age thus providing evidence toward the lack of not W fatal shooting victims in older age groups."
   ]
  },
  {
   "cell_type": "code",
   "execution_count": 86,
   "metadata": {},
   "outputs": [
    {
     "data": {
      "image/png": "[encoded data removed]",
      "text/plain": [
       "<Figure size 432x288 with 1 Axes>"
      ]
     },
     "metadata": {
      "needs_background": "light"
     },
     "output_type": "display_data"
    }
   ],
   "source": [
    "for frame in [df, df_w, df_not_w]:\n",
    "    frame.age.hist(bins = math.ceil(len(df)**.5))"
   ]
  },
  {
   "cell_type": "markdown",
   "metadata": {},
   "source": [
    "Given that we know $\\sigma_1$ or $\\sigma_2$ from the two populations we can utilize the random funciton to obtain two independent random samples from each population where $\\bar{x}_1$ and $\\bar{x}_2$ are sample means from populations 1 and 2, $n_1$ and $n_2$ are samlpe sizes from poulations 1 and 2.  Since we cannot assume that the population distributions are normal we need to satsify that $n_1 \\geq 30$ and $n_2 \\geq 30$ which we will do by utilizing 100 as our $n_1$ and $n_2$ values."
   ]
  },
  {
   "cell_type": "code",
   "execution_count": 244,
   "metadata": {},
   "outputs": [],
   "source": [
    "temp = df_not_w.age\n",
    "temp = temp.tolist()\n",
    "choice_1 = set()\n",
    "while (len(choice_1) < 100):\n",
    "    a = random.randint(0, len(temp)-1)\n",
    "    choice_1.add( a )"
   ]
  },
  {
   "cell_type": "code",
   "execution_count": 245,
   "metadata": {},
   "outputs": [],
   "source": [
    "choice_1 = list(choice_1)\n",
    "sample_1 = []\n",
    "for x in choice_1:\n",
    "    sample_1.append(temp[x])\n",
    "sample_1_df = pd.DataFrame(sample_1)\n",
    "sample_1_df.rename(columns={0 : 'age'}, inplace = True)"
   ]
  },
  {
   "cell_type": "code",
   "execution_count": 246,
   "metadata": {},
   "outputs": [],
   "source": [
    "temp = df_w.age\n",
    "temp = temp.tolist()\n",
    "choice_2 = set()\n",
    "while (len(choice_2) < 100):\n",
    "    a = random.randint(0, len(temp)-1)\n",
    "    choice_2.add( a )"
   ]
  },
  {
   "cell_type": "code",
   "execution_count": 247,
   "metadata": {},
   "outputs": [],
   "source": [
    "choice_2 = list(choice_2)\n",
    "sample_2 = []\n",
    "for x in choice_2:\n",
    "    sample_2.append(temp[x])\n",
    "sample_2_df = pd.DataFrame(sample_2)\n",
    "sample_2_df.rename(columns={0 : 'age'}, inplace = True)"
   ]
  },
  {
   "cell_type": "code",
   "execution_count": 248,
   "metadata": {},
   "outputs": [
    {
     "data": {
      "text/plain": [
       "(100, 100)"
      ]
     },
     "execution_count": 248,
     "metadata": {},
     "output_type": "execute_result"
    }
   ],
   "source": [
    "len(sample_1_df), len(sample_2_df)"
   ]
  },
  {
   "cell_type": "code",
   "execution_count": 249,
   "metadata": {},
   "outputs": [
    {
     "data": {
      "text/plain": [
       "(34.2, 12.419, 100)"
      ]
     },
     "execution_count": 249,
     "metadata": {},
     "output_type": "execute_result"
    }
   ],
   "source": [
    "x_bar_1 = round(sample_1_df['age'].mean(), 3)\n",
    "s_1 = round(sample_1_df['age'].std(), 3)\n",
    "n_1 = len(sample_1_df)\n",
    "x_bar_1, s_1, n_1"
   ]
  },
  {
   "cell_type": "code",
   "execution_count": 250,
   "metadata": {},
   "outputs": [
    {
     "data": {
      "text/plain": [
       "(38.42, 12.93, 100)"
      ]
     },
     "execution_count": 250,
     "metadata": {},
     "output_type": "execute_result"
    }
   ],
   "source": [
    "x_bar_2 = round(sample_2_df['age'].mean(), 3)\n",
    "s_2 = round(sample_2_df['age'].std(), 3)\n",
    "n_2 = len(sample_2_df)\n",
    "x_bar_2, s_2, n_2"
   ]
  },
  {
   "cell_type": "code",
   "execution_count": 251,
   "metadata": {},
   "outputs": [
    {
     "data": {
      "text/plain": [
       "-4.22"
      ]
     },
     "execution_count": 251,
     "metadata": {},
     "output_type": "execute_result"
    }
   ],
   "source": [
    "round(x_bar_1 - x_bar_2, 3)"
   ]
  },
  {
   "cell_type": "code",
   "execution_count": 252,
   "metadata": {},
   "outputs": [
    {
     "data": {
      "text/plain": [
       "-2.354"
      ]
     },
     "execution_count": 252,
     "metadata": {},
     "output_type": "execute_result"
    }
   ],
   "source": [
    "z_score = (x_bar_1 - x_bar_2)/( ( (s_1**2/n_1) + (s_2**2/n_2) )**.5 )\n",
    "z_score = round(z_score, 3)\n",
    "z_score"
   ]
  },
  {
   "cell_type": "markdown",
   "metadata": {},
   "source": [
    "The sample test statistic will follow a standard normal distribution because the samples are large, both $\\sigma_1$ and $\\sigma_2$ are known, and the samples are independent.\\\\\n",
    "The sample test statistic $\\bar{x}_1 - \\bar{x}_2 = 34.2 - 38.42 = -4.22$ which needs to be converted to a z-value\\\n",
    "$z = \\frac{ (\\bar{x}_1 - \\bar{x}_2) - (\\mu_1 - \\mu_2) }{\\sqrt{\\frac{\\sigma_1^2}{n_1}+\\frac{\\sigma_2^2}{n_2}}}$\\\n",
    "where\n",
    "* $\\sigma_1 = 12.419$\n",
    "* $\\sigma_2 = 12.93$\n",
    "* $ n_1 = n_2 = 100$\\\n",
    "So $z = \\frac{ -4.22 }{\\sqrt{\\frac{12.419^2}{100}+\\frac{12.93^2}{100}}}=-2.354$."
   ]
  },
  {
   "cell_type": "code",
   "execution_count": 253,
   "metadata": {},
   "outputs": [
    {
     "data": {
      "text/plain": [
       "0.018572611085559507"
      ]
     },
     "execution_count": 253,
     "metadata": {},
     "output_type": "execute_result"
    }
   ],
   "source": [
    "p_value = stats.norm.sf(abs(z_score))*2 #twosided\n",
    "p_value"
   ]
  },
  {
   "cell_type": "code",
   "execution_count": 254,
   "metadata": {},
   "outputs": [
    {
     "data": {
      "text/plain": [
       "True"
      ]
     },
     "execution_count": 254,
     "metadata": {},
     "output_type": "execute_result"
    }
   ],
   "source": [
    "p_value < 0.05"
   ]
  },
  {
   "cell_type": "markdown",
   "metadata": {},
   "source": [
    "* With a Z-score of $-2.354$ we calculate the P-value of the test statistic as $P(z \\neq -2.354) \\approx 0.019$.\n",
    "* Since the P-value < 0.05 we will reject $H_0$.\n",
    "* At the 5% level of significance, there is sufficient evidence to show that the there is a difference between the mean age of fatal police shooting victims identified as not W and W."
   ]
  },
  {
   "cell_type": "markdown",
   "metadata": {},
   "source": [
    "## b. Corresponding Confidence Intervals\n",
    "Since we know $\\sigma$ and the size of each sample satisfies $n \\geq 30$ we will proceed to find the 95% confidence interval $\\bar{x} - E < \\mu < \\bar{x} + E$ for each sample where\n",
    "* $\\bar{x}$ is the sample mean of a simple random sample\n",
    "* $E = z_c\\frac{\\sigma}{\\sqrt{n}}$\n",
    "* $c = $ confidence level $(0 < c < 1) = 0.95$\n",
    "* $z_c = $ critical value for confidence level $c$ based on the standard normal distribution $= z_{0.95} = 1.96$"
   ]
  },
  {
   "cell_type": "code",
   "execution_count": 195,
   "metadata": {},
   "outputs": [
    {
     "data": {
      "text/plain": [
       "(2.18246, 2.342004)"
      ]
     },
     "execution_count": 195,
     "metadata": {},
     "output_type": "execute_result"
    }
   ],
   "source": [
    "c = 0.95\n",
    "z_c = round (abs (stats.norm.ppf((1-c)/2)),2)\n",
    "z_c\n",
    "E_1 = z_c*(s_1/(n_1**.5))\n",
    "E_2 = z_c*(s_2/(n_2**.5))\n",
    "E_1, E_2"
   ]
  },
  {
   "cell_type": "code",
   "execution_count": 199,
   "metadata": {},
   "outputs": [
    {
     "data": {
      "text/plain": [
       "(32.284, 36.648)"
      ]
     },
     "execution_count": 199,
     "metadata": {},
     "output_type": "execute_result"
    }
   ],
   "source": [
    "round(x_bar_1 - E_1, 3), round(x_bar_1 + E_1, 3)"
   ]
  },
  {
   "cell_type": "code",
   "execution_count": 200,
   "metadata": {},
   "outputs": [
    {
     "data": {
      "text/plain": [
       "(39.22, 43.904)"
      ]
     },
     "execution_count": 200,
     "metadata": {},
     "output_type": "execute_result"
    }
   ],
   "source": [
    "round(x_bar_2 - E_2, 3), round(x_bar_2 + E_2, 3)"
   ]
  },
  {
   "cell_type": "markdown",
   "metadata": {},
   "source": [
    "Based on the work above we see that:\\\n",
    "For Sample 1 we have the 95% confidence interval for $u_1$\n",
    "* $32.284 < \\mu < 36.648$ which means that we conclude with 95% confidence that the interval from $32.284$ years to $36.648$ years is the one that contains the population mean $\\mu_1$ of age of fatal shooting victims identified as not W.\\\n",
    "\\\n",
    "For Sample 2 we have the 95% confidence interval for $u_2$\n",
    "* $39.220 < \\mu < 43.904$ which means that we conclude with 95% confidence that the interval from $39.220$ years to $43.904$ years is the one that contains the population mean $\\mu_2$ of age of fatal shooting victims identified as W."
   ]
  },
  {
   "cell_type": "markdown",
   "metadata": {},
   "source": [
    "## c Analysis using One-Way ANOVA\n",
    "We will generate a third group utilizing similar methods as in 2a except we will draw from the entire dataset rather than a subset of those who have a race identified as not W (group 1) or W (group 2).\n",
    "* We have already discussed that our population allows us to work as though it is normal.\n",
    "* Each group in 2a was randomly selected and independent of  of all other groups (i.e. the same subjects are not used in more than one group).\n",
    "  * This is accomplished by checking if the randomly generated value for the original sample is already in sample_1 and sample_2.  Providing it is not in both then it is acceptable to populate the third group.  With 5,652 subjects in the original dataset we should not have trouble selecting an additional 100 from the 5,452 unique subjects remaining.\n",
    "* We can assume that the variables from each group come from distributions with approximately the same standard deviation, if we look at the sample standard deviations from 2a we see they have an absolute difference of $0.511$.\\\n",
    "Our hypothesis are:\n",
    "* $H_0: u_1 = u_2 = u_3$\n",
    "* $H_1:$ At least two of the means $u_1, u_2, u_3$ are not equal."
   ]
  },
  {
   "cell_type": "code",
   "execution_count": 288,
   "metadata": {},
   "outputs": [
    {
     "data": {
      "text/plain": [
       "(12.419, 12.93, -0.511)"
      ]
     },
     "execution_count": 288,
     "metadata": {},
     "output_type": "execute_result"
    }
   ],
   "source": [
    "s_1, s_2, round(s_1-s_2,3)"
   ]
  },
  {
   "cell_type": "code",
   "execution_count": 277,
   "metadata": {},
   "outputs": [],
   "source": [
    "temp = df.age\n",
    "temp = temp.tolist()\n",
    "sample_3\n",
    "while (len(sample_3) < 100):\n",
    "    a = random.randint(0, len(temp)-1)\n",
    "    if( (temp[a] not in sample_1) and (temp[a] not in sample_2) ):\n",
    "        sample_3.append(temp[a])"
   ]
  },
  {
   "cell_type": "code",
   "execution_count": 278,
   "metadata": {},
   "outputs": [],
   "source": [
    "group1 = np.array(sample_1) # sample 1 is 100 individuals from the not W race category\n",
    "group2 = np.array(sample_2) # sample 2 is 100 individuals from the W race category\n",
    "group3 = np.array(sample_3) # sample 3 is 100 individuals from any race category"
   ]
  },
  {
   "cell_type": "code",
   "execution_count": 279,
   "metadata": {},
   "outputs": [
    {
     "name": "stdout",
     "output_type": "stream",
     "text": [
      "F-Statistic: 2.650605155757416\n",
      "p-value: 0.07227858806025513\n"
     ]
    }
   ],
   "source": [
    "res = stats.f_oneway(group1,group2,group3)\n",
    "print (f'F-Statistic:', res.statistic)\n",
    "print ('p-value:', res.pvalue)"
   ]
  },
  {
   "cell_type": "code",
   "execution_count": 280,
   "metadata": {},
   "outputs": [],
   "source": [
    "arr = [group1,group2,group3]\n",
    "tmp = []\n",
    "a_df = pd.DataFrame()\n",
    "for i in range (0,3):\n",
    "    tmp_df = pd.DataFrame()\n",
    "    s = f'group{i+1}'    \n",
    "    tmp_df['value'] = arr[i]    \n",
    "    tmp_df['group'] = s\n",
    "    tmp.append(tmp_df)\n",
    "a_df = pd.concat(tmp)"
   ]
  },
  {
   "cell_type": "code",
   "execution_count": 282,
   "metadata": {},
   "outputs": [],
   "source": [
    "import statsmodels.formula.api as smf\n",
    "import statsmodels.api as sm\n",
    "model = smf.ols('value ~ group', data=a_df).fit()"
   ]
  },
  {
   "cell_type": "code",
   "execution_count": 283,
   "metadata": {},
   "outputs": [
    {
     "name": "stdout",
     "output_type": "stream",
     "text": [
      "             df        sum_sq     mean_sq         F    PR(>F)\n",
      "group       2.0    890.957944  445.478972  2.650605  0.072279\n",
      "Residual  297.0  49915.867084  168.066893       NaN       NaN\n"
     ]
    }
   ],
   "source": [
    "aov_table = sm.stats.anova_lm(model)\n",
    "print (aov_table)"
   ]
  },
  {
   "cell_type": "code",
   "execution_count": 294,
   "metadata": {},
   "outputs": [
    {
     "data": {
      "text/plain": [
       "F_onewayResult(statistic=2.650605155757416, pvalue=0.07227858806025513)"
      ]
     },
     "execution_count": 294,
     "metadata": {},
     "output_type": "execute_result"
    }
   ],
   "source": [
    "from scipy.stats import f_oneway\n",
    "f_oneway(group1, group2, group3)"
   ]
  },
  {
   "cell_type": "markdown",
   "metadata": {},
   "source": [
    "Our summary table provides us with the results of the One-way ANOVA Test, confirmed with the scipy implementation.  We see that $PR(>F) = 0.072279$ is our P-value which is greater than $\\alpha = 0.05$ so we cannot reject $H_0$."
   ]
  },
  {
   "cell_type": "markdown",
   "metadata": {},
   "source": [
    "***\n",
    "# 4 Conclusion\n",
    "I came into this project knowing that I was dealing with a very sensitive issue and that any results I would make would be very likely to need very careful assessment before discussing.  Although I was able to show using statistics that there was some creedence to difference in fatal shooting rates between the differing racial groups in the dataset, I would feel uncomfortable making any sweeping conclusion because these data points represent human lives that were ended.  The big takeaway that I got from this project was less about statistical investigation, although I certainly learned that it can help remove yourself from the gravity of a topic, and more into deep thinking about what we are as a country and how our population is treated.  I do not like that this data set exists, I wish that there was not a need to keep track of this material.  I am very glad it is out there and I hope that, if anything, others working with it will also look more closely at how the differing people in America are treated by one another in general but the police in specific."
   ]
  }
 ],
 "metadata": {
  "kernelspec": {
   "display_name": "Python 3",
   "language": "python",
   "name": "python3"
  },
  "language_info": {
   "codemirror_mode": {
    "name": "ipython",
    "version": 3
   },
   "file_extension": ".py",
   "mimetype": "text/x-python",
   "name": "python",
   "nbconvert_exporter": "python",
   "pygments_lexer": "ipython3",
   "version": "3.8.5"
  }
 },
 "nbformat": 4,
 "nbformat_minor": 4
}
